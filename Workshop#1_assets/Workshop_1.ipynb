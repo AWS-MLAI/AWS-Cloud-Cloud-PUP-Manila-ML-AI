{
  "nbformat": 4,
  "nbformat_minor": 0,
  "metadata": {
    "colab": {
      "provenance": [],
      "authorship_tag": "ABX9TyNzcH+nmvzyOftbghsD87zy",
      "include_colab_link": true
    },
    "kernelspec": {
      "name": "python3",
      "display_name": "Python 3"
    },
    "language_info": {
      "name": "python"
    }
  },
  "cells": [
    {
      "cell_type": "markdown",
      "metadata": {
        "id": "view-in-github",
        "colab_type": "text"
      },
      "source": [
        "<a href=\"https://colab.research.google.com/github/AWS-MLAI/AWS-Cloud-Cloud-PUP-Manila-ML-AI/blob/master/Workshop%231_assets/Workshop_1.ipynb\" target=\"_parent\"><img src=\"https://colab.research.google.com/assets/colab-badge.svg\" alt=\"Open In Colab\"/></a>"
      ]
    },
    {
      "cell_type": "markdown",
      "source": [
        "# Welcome to AWS Department in Machine Learning/Artificial Intelligence:\n",
        "\n",
        "<div style=\"display: flex; justify-content: center; align-items: center;\">\n",
        "  <img src=\"https://github.com/AWS-MLAI/AWS-Cloud-Cloud-PUP-Manila-ML-AI/blob/master/Miscellaneous/aws%20logo.jpg?raw=true\" width=\"300\">\n",
        "</div>\n"
      ],
      "metadata": {
        "id": "2mdUdy7eQRcI"
      }
    },
    {
      "cell_type": "markdown",
      "source": [
        "## For our first workshop we are going to be introducing:\n",
        "\n",
        "* Python and its syntaxes\n",
        "* Common Python libraries used in Data processing, Data analyzation, and Machine Learning in general."
      ],
      "metadata": {
        "id": "EgtkpyVkRDZW"
      }
    },
    {
      "cell_type": "markdown",
      "source": [
        "## Python\n",
        "\n",
        "<div style=\"display: flex; justify-content: center; align-items: center;\">\n",
        "  <img src=\"https://upload.wikimedia.org/wikipedia/commons/thumb/c/c3/Python-logo-notext.svg/800px-Python-logo-notext.svg.png\" width=\"300\">\n",
        "</div>\n",
        "\n",
        "### Now, you might ask.\n",
        "# WHY PYTHON?\n",
        "* Python is a great idea to learn machine learning because it gives you flexibility since its syntax is clean and relatively easier to understand because of its \"straightfowardness\" nature of it.\n",
        "* Python has a great \"ecosystem\" of libraries and frameworks, meaning it has tons of ready-to-use tools that would make your life easier building machine learning models.\n",
        "* Almost all of Machine learning Engineers frequently use Python to build their ML/AI Models, which is why it has a large community of developers and data scientists that are still continuing to improve its \"libraries\" or tools."
      ],
      "metadata": {
        "id": "iBerT_LpO4R-"
      }
    },
    {
      "cell_type": "markdown",
      "source": [
        "### Variable Declaration\n",
        "#### As opposed to the C language, we can just straightfowardly declare the variable and assign it a value.\n",
        "#### Example:\n",
        "|**Data Type**|**C**|**Python**|\n",
        "|-----|-----|-----|\n",
        "|**Integer**|int x = 5;|x = 5|\n",
        "|**Float**|float y = 3.14;| y = 3.14|\n",
        "|**Character**|char ch = 'A';| ch = 'a'|\n",
        "|**String**|char str[] = \"AWS PUP\"; **or** char str[] = {'A', 'W', 'S', ' ', 'P', 'U', 'P', '\\0'}; |string = \"AWS PUP\"|\n",
        "|**Integer Array**|int intArr[5] = {1, 2, 3, 4, 5};|intArr = [1, 2, 3, 4, 5]|\n",
        "|**Float Array**|float floatArr[5] = {1.1, 2.2, 3.3, 4.4, 5.5};|floatArr = [1.1, 2.2, 3.3, 4.4, 5.5]|\n",
        "|**String Array**|char strArr[][12] = {\"AWS\", \"PUP\", \"MANILA\"};|strArr = [\"AWS\", \"PUP\", \"MANILA\"]|"
      ],
      "metadata": {
        "id": "z9UTa4YsXVTA"
      }
    },
    {
      "cell_type": "code",
      "source": [
        "# Variable Declaration\n",
        "\n",
        "# Integer\n",
        "x = 5\n",
        "\n",
        "# Float\n",
        "y = 5.5\n",
        "\n",
        "# Character\n",
        "ch = 'A'\n",
        "\n",
        "# String\n",
        "string = \"AWS PUP MANILA\"\n",
        "\n",
        "# Integer Array\n",
        "intArr = [1, 2, 3, 4, 5]\n",
        "\n",
        "# Float Array\n",
        "floatArr = [1.1, 2.2, 3.3, 4.4, 5.5]\n",
        "\n",
        "# String Array\n",
        "strArr = [\"AWS\", \"PUP\", \"MANILA\"]"
      ],
      "metadata": {
        "id": "HIat6_djQhrq"
      },
      "execution_count": null,
      "outputs": []
    },
    {
      "cell_type": "markdown",
      "source": [
        "### Print statement\n",
        "#### Just like in C, you can format your print command in python, for example:\n",
        "|**C**|**Python**|\n",
        "|-----|-----|\n",
        "|**`printf(\"My name is %s and I am %d years old\\n\", myName, myAge);`**|**`print(f\"My name is {myName} and I am {myAge} years old\")`**|\n"
      ],
      "metadata": {
        "id": "v9m-rQoJhljm"
      }
    },
    {
      "cell_type": "code",
      "source": [
        "myName = \"Mark Macaraeg\"\n",
        "myAge = 20\n",
        "\n",
        "print(f\"My name is {myName} and I am {myAge} years old\")"
      ],
      "metadata": {
        "colab": {
          "base_uri": "https://localhost:8080/"
        },
        "id": "5WACsC4OkbwD",
        "outputId": "8559ec00-41f3-47b4-a488-2e1eb2c22cc1"
      },
      "execution_count": null,
      "outputs": [
        {
          "output_type": "stream",
          "name": "stdout",
          "text": [
            "My name is Mark Macaraeg and I am 20 years old\n"
          ]
        }
      ]
    },
    {
      "cell_type": "markdown",
      "source": [
        "### But unlike in C, you can directly print your array in Python, for example:\n",
        "#### Command: `print(intArray)`\n",
        "#### Output: `[1, 2, 3, 4, 5]`"
      ],
      "metadata": {
        "id": "cIFNOxkQgkZg"
      }
    },
    {
      "cell_type": "code",
      "source": [
        "# Array of Integers\n",
        "intArr = [2, 0, 2, 4]\n",
        "print(intArr)\n",
        "\n",
        "# Array of Strings\n",
        "strArr = [\"AWS\", \"PUP\", \"MANILA\"]\n",
        "print(strArr)"
      ],
      "metadata": {
        "colab": {
          "base_uri": "https://localhost:8080/"
        },
        "id": "qz-uPK2XlXDK",
        "outputId": "59d1ca19-367c-47da-833f-052d2b0c47ce"
      },
      "execution_count": null,
      "outputs": [
        {
          "output_type": "stream",
          "name": "stdout",
          "text": [
            "[2, 0, 2, 4]\n",
            "['AWS', 'PUP', 'MANILA']\n"
          ]
        }
      ]
    },
    {
      "cell_type": "markdown",
      "source": [
        "##### And like in C, or in many programming languages, index 0 is used to access the first element of a list\n",
        "#####`intArr = [2, 0, 3, 4]`\n",
        "#####`print(intArr[0])`\n",
        "##### output: 2"
      ],
      "metadata": {
        "id": "WTktq4kLlgp2"
      }
    },
    {
      "cell_type": "code",
      "source": [
        "intArr = [2, 0, 3, 4]\n",
        "print(intArr[0])"
      ],
      "metadata": {
        "colab": {
          "base_uri": "https://localhost:8080/"
        },
        "id": "yc2VH4U_nMew",
        "outputId": "df5a91f2-ff16-49fe-cfcc-bc3d9cd87a8d"
      },
      "execution_count": null,
      "outputs": [
        {
          "output_type": "stream",
          "name": "stdout",
          "text": [
            "2\n"
          ]
        }
      ]
    },
    {
      "cell_type": "markdown",
      "source": [
        "## Basic Arithmetic Operations:\n",
        "### `addition = 1 + 1`\n",
        "### `subtraction = 10 - 5`\n",
        "### `multiplication = 5 * 5`\n",
        "### `division = 10/3`"
      ],
      "metadata": {
        "id": "i_wDDtO6ngXX"
      }
    },
    {
      "cell_type": "code",
      "source": [
        "addition = 1 + 1\n",
        "subtraction = 10 - 5\n",
        "multiplication = 5 * 5\n",
        "division = 10/3\n",
        "\n",
        "print(f\"Addition result: {addition}\")\n",
        "print(f\"Subtraction result: {subtraction}\")\n",
        "print(f\"Multiplication result: {multiplication}\")\n",
        "print(f\"Division result: {division:.2f}\") # `.2f` means to limit the number of decimal places to two in Python."
      ],
      "metadata": {
        "colab": {
          "base_uri": "https://localhost:8080/"
        },
        "id": "7sMV9ZcVoNyv",
        "outputId": "3c1ccac3-b254-4443-9b5e-a2aede949b9b"
      },
      "execution_count": null,
      "outputs": [
        {
          "output_type": "stream",
          "name": "stdout",
          "text": [
            "Addition result: 2\n",
            "Subtraction result: 5\n",
            "Multiplication result: 25\n",
            "Division result: 3.33\n"
          ]
        }
      ]
    },
    {
      "cell_type": "markdown",
      "source": [
        "## Conditional statements using `if`, `elif`, `else` for decision making"
      ],
      "metadata": {
        "id": "8pw8dVDToRDq"
      }
    },
    {
      "cell_type": "code",
      "source": [
        "given_number = 42\n",
        "number_to_compare = 167\n",
        "\n",
        "if given_number > number_to_compare:\n",
        "  print(f\"Your given number {given_number} is greater than {number_to_compare}\")\n",
        "elif given_number == number_to_compare:\n",
        "  print(f\"Your given number {given_number} is equal to {number_to_compare}\")\n",
        "else:\n",
        "  print(f\"Your given number {given_number} is less than {number_to_compare}\")"
      ],
      "metadata": {
        "colab": {
          "base_uri": "https://localhost:8080/"
        },
        "id": "jWA6uzUnpgh6",
        "outputId": "031e0e61-043b-41f5-8e07-e6c7adf46d2c"
      },
      "execution_count": null,
      "outputs": [
        {
          "output_type": "stream",
          "name": "stdout",
          "text": [
            "Your given number 42 is less than 167\n"
          ]
        }
      ]
    },
    {
      "cell_type": "markdown",
      "source": [
        "# Loops using `for` loops and `while` loops"
      ],
      "metadata": {
        "id": "0MyiVPkAwKFF"
      }
    },
    {
      "cell_type": "code",
      "source": [
        "print(\"For loop Example: \")\n",
        "# For loop\n",
        "for i in range(10): # iterate 10 times\n",
        "    print(i)\n",
        "\n",
        "print(\"\\n\") # Print a new line\n",
        "\n",
        "print(\"While loop Example: \")\n",
        "# While loop\n",
        "count = 0\n",
        "while count < 10:\n",
        "    print(count)\n",
        "    count += 1\n"
      ],
      "metadata": {
        "colab": {
          "base_uri": "https://localhost:8080/"
        },
        "id": "0DLlJdrKvlW8",
        "outputId": "b536ef78-3f96-4478-eefe-2df193fcc8bd"
      },
      "execution_count": null,
      "outputs": [
        {
          "output_type": "stream",
          "name": "stdout",
          "text": [
            "For loop Example: \n",
            "0\n",
            "1\n",
            "2\n",
            "3\n",
            "4\n",
            "5\n",
            "6\n",
            "7\n",
            "8\n",
            "9\n",
            "\n",
            "\n",
            "While loop Example: \n",
            "0\n",
            "1\n",
            "2\n",
            "3\n",
            "4\n",
            "5\n",
            "6\n",
            "7\n",
            "8\n",
            "9\n"
          ]
        }
      ]
    },
    {
      "cell_type": "markdown",
      "source": [
        "## Iterate each element in a list"
      ],
      "metadata": {
        "id": "x--VRPmFwb_2"
      }
    },
    {
      "cell_type": "code",
      "source": [
        "my_list = [\"AWS\", \"PUP\", \"MANILA\"]\n",
        "\n",
        "for element in my_list:\n",
        "  print(element)"
      ],
      "metadata": {
        "colab": {
          "base_uri": "https://localhost:8080/"
        },
        "id": "4kjb-JvpwjaE",
        "outputId": "ebfbe739-3d2f-4f22-d606-119419c94d27"
      },
      "execution_count": null,
      "outputs": [
        {
          "output_type": "stream",
          "name": "stdout",
          "text": [
            "AWS\n",
            "PUP\n",
            "MANILA\n"
          ]
        }
      ]
    },
    {
      "cell_type": "markdown",
      "source": [
        "## P.S. While Python syntax may seem easy, keep in mind that Python is VERY sensitive to indentation."
      ],
      "metadata": {
        "id": "B9CqnnsMuDZv"
      }
    },
    {
      "cell_type": "code",
      "source": [
        "# Example of indentation error in Python\n",
        "\n",
        "my_numbers = [1, 2, 3, 4, 5]\n",
        "\n",
        "for number in my_numbers:\n",
        "  if number % 2 == 0:\n",
        "  print(f\"{number} is an even number\") # Cause of error: Lack of indentation\n",
        "  else:\n",
        "  print(f\"{number} is not an even number\")"
      ],
      "metadata": {
        "colab": {
          "base_uri": "https://localhost:8080/",
          "height": 106
        },
        "id": "KDz9ImAbu-lV",
        "outputId": "ab865ada-c08f-4d44-df6f-e4895caceed2"
      },
      "execution_count": null,
      "outputs": [
        {
          "output_type": "error",
          "ename": "IndentationError",
          "evalue": "expected an indented block after 'if' statement on line 6 (<ipython-input-41-e797f2c8f0d3>, line 7)",
          "traceback": [
            "\u001b[0;36m  File \u001b[0;32m\"<ipython-input-41-e797f2c8f0d3>\"\u001b[0;36m, line \u001b[0;32m7\u001b[0m\n\u001b[0;31m    print(f\"{number} is an even number\") # Cause of error: Lack of indentation\u001b[0m\n\u001b[0m    ^\u001b[0m\n\u001b[0;31mIndentationError\u001b[0m\u001b[0;31m:\u001b[0m expected an indented block after 'if' statement on line 6\n"
          ]
        }
      ]
    },
    {
      "cell_type": "code",
      "source": [
        "# Same code but with appropriate indentations\n",
        "\n",
        "my_numbers = [1, 2, 3, 4, 5]\n",
        "\n",
        "for number in my_numbers:\n",
        "  if number % 2 == 0:\n",
        "    print(f\"{number} is an even number\")\n",
        "  else:\n",
        "    print(f\"{number} is not an even number\")\n"
      ],
      "metadata": {
        "colab": {
          "base_uri": "https://localhost:8080/"
        },
        "id": "YTQf-yRCvMdM",
        "outputId": "db39e7ab-895e-439e-a611-ce03337c5c74"
      },
      "execution_count": null,
      "outputs": [
        {
          "output_type": "stream",
          "name": "stdout",
          "text": [
            "1 is not an even number\n",
            "2 is an even number\n",
            "3 is not an even number\n",
            "4 is an even number\n",
            "5 is not an even number\n"
          ]
        }
      ]
    },
    {
      "cell_type": "markdown",
      "source": [
        "# Function declaration structure:\n",
        "\n",
        "<div style=\"display: flex; justify-content: center; align-items: center;\">\n",
        "  <img src = \"https://github.com/AWS-MLAI/AWS-Cloud-Cloud-PUP-Manila-ML-AI/blob/master/Workshop%231_assets/def%20function_name.png?raw=true\" width=\"500\">\n",
        "</div>"
      ],
      "metadata": {
        "id": "5XD6-AKDyYHO"
      }
    },
    {
      "cell_type": "code",
      "source": [
        "# Create a function that adds two numbers that returns the sum.\n",
        "\n",
        "def add(number_1, number_2):\n",
        "  sum = number_1 + number_2\n",
        "  return sum\n",
        "\n",
        "result = add(5, 3)\n",
        "result"
      ],
      "metadata": {
        "colab": {
          "base_uri": "https://localhost:8080/"
        },
        "id": "B58av26byMLa",
        "outputId": "ea044b7c-44bb-4bc3-e5a6-afee602e486b"
      },
      "execution_count": null,
      "outputs": [
        {
          "output_type": "execute_result",
          "data": {
            "text/plain": [
              "8"
            ]
          },
          "metadata": {},
          "execution_count": 45
        }
      ]
    },
    {
      "cell_type": "markdown",
      "source": [
        "# Now let's move on to some libraries commonly used in Data processes and Machine learning\n",
        "### But, before that, what's a library?\n",
        "* A library is a collection of codes that developers have created, or in other words, \"pre-written codes\" that we can reuse to solve a problem. So imagine it like a toolbox, which makes your life easier building things in your code.\n",
        "* It can contain lots of functions, such as a function to add two numbers like what we declared above.\n",
        "* It can also contain classes, which is a blueprint for creating something like a \"Person\" where it can contain methods (or functions) like eating, walking, breathing, and attributes (or variables) like height, weight, and age."
      ],
      "metadata": {
        "id": "BQCY3Q1oy16D"
      }
    },
    {
      "cell_type": "markdown",
      "source": [
        "### Now, let's get into it by starting with \"NumPy\""
      ],
      "metadata": {
        "id": "YA05d_tP-p31"
      }
    },
    {
      "cell_type": "markdown",
      "source": [
        "<div style = \"display: flex; justify-content: center; align-items: center;\">\n",
        "  <img src = \"https://upload.wikimedia.org/wikipedia/commons/thumb/3/31/NumPy_logo_2020.svg/1200px-NumPy_logo_2020.svg.png\" width=\"400\">\n",
        "\n",
        "</div>\n",
        "\n",
        "### What's NumPy?\n",
        "#### NumPy, short for Numerical Python, is a package or a library that can deal with numerical computations, which can speed things up for you if you want to solve mathematical problems, like dealing with arrays of numbers, matrices, or anything that involves huge amount of numbers. In other words, NumPy arrays can perform complex mathematical operations on **veeerryyy** big data more efficiently and with less code than Python's built-in lists, which is why many developers like Machine Learning engineers are in love with NumPy.\n",
        "#### Furthermore, it contains functions or tools related to Math, like trigonometry, exponential functions, logarithmic functions, and more.\n",
        "#### Visit https://numpy.org/doc/stable/user/index.html for its documentation.\n",
        "## Advantages of NumPy over normal Python Lists\n",
        "* Efficient memory usage because NumPy arrays store elements of the same data type, whereas Python lists can contain elements of different data types. And because NumPy arrays store data in a contiguous (in adjacent) block of memory.\n",
        "* It can integrate well with other libraries and tools used in Data processing and Machine learning ecosystem, such as Pandas, Matplotlib, and scikit-learn.\n",
        "* It allows you to easily do arethmetic operations with every element in an array (also known as element-wise operations), which makes it easy and very fast to do maths with the entire array because it uses something called \"vectorized operations\"."
      ],
      "metadata": {
        "id": "v1Ft4b-U87Er"
      }
    },
    {
      "cell_type": "code",
      "source": [
        "# Let's get started with NumPy!\n",
        "\n",
        "import numpy as np # as np is just a shortcut word to access the package's tools\n",
        "\n",
        "# Create a 1D array of many zeros as you like\n",
        "zeros_1d = np.zeros(10)\n",
        "print(f\"1D Array filled with zeros: \\n{zeros_1d}\")\n",
        "\n",
        "\n",
        "\n",
        "# Create a 2D array (matrix) of many zeros as you like\n",
        "zeros_2d = np.zeros((2, 5)) # In this case, we created a 2x5 zeros\n",
        "print(f\"2D Array filled with zeros: \\n{zeros_2d}\\n\")\n",
        "\n",
        "\n",
        "# Create a 1D array of many ones as you like\n",
        "ones_1d = np.ones(10)\n",
        "print(f\"1D Array filled with ones: \\n{ones_1d}\")\n",
        "\n",
        "\n",
        "\n",
        "# Create a 2D array (matrix) of many ones as you like\n",
        "ones_2d = np.ones((2, 5)) # In this case, we created a 2x5 ones\n",
        "print(f\"2D Array filled with ones: \\n{ones_2d}\\n\")\n",
        "\n",
        "\n",
        "# Fill a 1D array of a specific value as you like\n",
        "specific_value = 42\n",
        "full_1d = np.full((10), specific_value)\n",
        "print(f\"1D Array filled with 10: \\n{full_1d}\")\n",
        "\n",
        "\n",
        "\n",
        "# Fill a 2D array (matrix) of a specific value as you like\n",
        "full_2d = np.full((2,5), specific_value)\n",
        "print(f\"2D Array filled with 10: \\n{full_2d}\\n\")\n",
        "\n",
        "\n"
      ],
      "metadata": {
        "colab": {
          "base_uri": "https://localhost:8080/"
        },
        "id": "PaQ-HOS0_Brl",
        "outputId": "381b320b-6e75-4a42-d2b9-e16f840a8c7b"
      },
      "execution_count": null,
      "outputs": [
        {
          "output_type": "stream",
          "name": "stdout",
          "text": [
            "1D Array filled with zeros: \n",
            "[0. 0. 0. 0. 0. 0. 0. 0. 0. 0.]\n",
            "2D Array filled with zeros: \n",
            "[[0. 0. 0. 0. 0.]\n",
            " [0. 0. 0. 0. 0.]]\n",
            "\n",
            "1D Array filled with ones: \n",
            "[1. 1. 1. 1. 1. 1. 1. 1. 1. 1.]\n",
            "2D Array filled with ones: \n",
            "[[1. 1. 1. 1. 1.]\n",
            " [1. 1. 1. 1. 1.]]\n",
            "\n",
            "1D Array filled with 10: \n",
            "[42 42 42 42 42 42 42 42 42 42]\n",
            "2D Array filled with 10: \n",
            "[[42 42 42 42 42]\n",
            " [42 42 42 42 42]]\n",
            "\n"
          ]
        }
      ]
    },
    {
      "cell_type": "markdown",
      "source": [
        "##### Check whether a value is a NaN or inf"
      ],
      "metadata": {
        "id": "0_MSvRo4b82R"
      }
    },
    {
      "cell_type": "code",
      "source": [
        "import numpy as np\n",
        "\n",
        "nan_value = np.NaN # Assign a NaN value to variable `nan_value`\n",
        "if np.isnan(nan_value) == True:\n",
        "  print(\"The variable nan_value contains NaN value\")\n",
        "\n",
        "inf_value = np.inf # Assign a inf value to variable `inf_value`\n",
        "if np.isinf(inf_value) == True:\n",
        "  print(\"The variable inf_value contains inf value\")\n"
      ],
      "metadata": {
        "colab": {
          "base_uri": "https://localhost:8080/"
        },
        "id": "fUnuP5d9cD4m",
        "outputId": "cdaee53f-26b3-47b6-deb7-27fc18a8eb48"
      },
      "execution_count": null,
      "outputs": [
        {
          "output_type": "stream",
          "name": "stdout",
          "text": [
            "The variable nan_value contains NaN value\n",
            "The variable inf_value contains inf value\n"
          ]
        }
      ]
    },
    {
      "cell_type": "markdown",
      "source": [
        "##### Create arrays using NumPy"
      ],
      "metadata": {
        "id": "X8xIAohf6ZOE"
      }
    },
    {
      "cell_type": "code",
      "source": [
        "import numpy as np\n",
        "# Create an array using numpy\n",
        "numpy_array = np.array([1, 2, 3])\n",
        "print(f\"My array: \\n{numpy_array}\\n\")\n",
        "\n",
        "# Create a 2D matrix using numpy\n",
        "matrix = np.array([[1, 2, 3],\n",
        "                   [4, 5, 6]])\n",
        "print(f\"My matrix (2D array): \\n{matrix}\\n\")\n",
        "\n",
        "\n",
        "# Create an array with a starting number and an ending number with a specific steps\n",
        "starting_number = 0\n",
        "ending_number = 42\n",
        "steps = 2\n",
        "arrays_with_arange = np.arange(start=starting_number,\n",
        "                                 stop=ending_number,\n",
        "                                 step=steps)\n",
        "print(f\"Arrays using .arange() with start={starting_number}, stop={ending_number}, and step={steps}: \\n{arrays_with_arange}\\n\")\n",
        "\n",
        "# You can use a function similar to `np.arange`, called `np.linspace` except instead of using intervals for `step`, we use the `num` argument to specify how many values to generate over a specified interval[start, stop].\n",
        "starting_number = 0\n",
        "ending_number = 42\n",
        "amount_to_generate = 10\n",
        "arrays_with_linspace = np.linspace(start=starting_number,\n",
        "                                   stop=ending_number,\n",
        "                                   num=amount_to_generate)\n",
        "print(f\"Arrays using .linspace() with start={starting_number}, stop={ending_number}, and num={amount_to_generate}: \\n{arrays_with_linspace}\\n\")"
      ],
      "metadata": {
        "colab": {
          "base_uri": "https://localhost:8080/"
        },
        "id": "-ba3z_SADqrJ",
        "outputId": "cd2d642c-a8c2-4c7f-8e53-fe511b506268"
      },
      "execution_count": null,
      "outputs": [
        {
          "output_type": "stream",
          "name": "stdout",
          "text": [
            "My array: \n",
            "[1 2 3]\n",
            "\n",
            "My matrix (2D array): \n",
            "[[1 2 3]\n",
            " [4 5 6]]\n",
            "\n",
            "Arrays using .arange() with start=0, stop=42, and step=2: \n",
            "[ 0  2  4  6  8 10 12 14 16 18 20 22 24 26 28 30 32 34 36 38 40]\n",
            "\n",
            "Arrays using .linspace() with start=0, stop=42, and num=10: \n",
            "[ 0.          4.66666667  9.33333333 14.         18.66666667 23.33333333\n",
            " 28.         32.66666667 37.33333333 42.        ]\n",
            "\n"
          ]
        }
      ]
    },
    {
      "cell_type": "markdown",
      "source": [
        "#### Create random values in arrays with NumPy"
      ],
      "metadata": {
        "id": "0359AydSYh29"
      }
    },
    {
      "cell_type": "code",
      "source": [
        "# What if I want to randomly generate integers with a given shape and upper bound(limit)?\n",
        "upper_bound = 6 # meaning generate a numbers either 0 up to upper_bound-1  only, in this case, it will generate numbers either 0 - 5 only\n",
        "size_1 = 2\n",
        "size_2 = 5\n",
        "random_array = np.random.randint(upper_bound, size=(size_1, size_2))\n",
        "print(f\"My random array: \\n{random_array}\\n\")\n",
        "\n",
        "\n",
        "# Create an array with values between 0 and 1. In technical terms, create random samples from a uniform distribution over [0, 1).\n",
        "random_distribution = np.random.rand(2, 5) # The reason why we're doing this is, because these values are very commonly used in Machine learning.\n",
        "print(f\"My random array with range between 0 and 1: \\n{random_distribution}\\n\")\n",
        "\n",
        "\n",
        "# Convert an array with a specific datatype to another.\n",
        "low = 0 # basically just the lower bound\n",
        "high = 6 # basically just the upper bound\n",
        "random_uniform_array = np.random.uniform(low, high, size=(2, 5)) #\n",
        "random_uniform_array_transformed = random_uniform_array.astype(np.intc) # .astype(np.intc) means to convert the values of the array into integers\n",
        "print(f\"Random array before converting datatype: \\n{random_uniform_array}\")\n",
        "print(f\"Random array after converting datatype: \\n{random_uniform_array_transformed}\")"
      ],
      "metadata": {
        "id": "tICXs6B2Yowo",
        "colab": {
          "base_uri": "https://localhost:8080/",
          "height": 211
        },
        "outputId": "20fd93e8-9e4d-4f44-c9b9-50f1a4e77980"
      },
      "execution_count": null,
      "outputs": [
        {
          "output_type": "error",
          "ename": "NameError",
          "evalue": "name 'np' is not defined",
          "traceback": [
            "\u001b[0;31m---------------------------------------------------------------------------\u001b[0m",
            "\u001b[0;31mNameError\u001b[0m                                 Traceback (most recent call last)",
            "\u001b[0;32m<ipython-input-1-d774c03dbd00>\u001b[0m in \u001b[0;36m<cell line: 5>\u001b[0;34m()\u001b[0m\n\u001b[1;32m      3\u001b[0m \u001b[0msize_1\u001b[0m \u001b[0;34m=\u001b[0m \u001b[0;36m2\u001b[0m\u001b[0;34m\u001b[0m\u001b[0;34m\u001b[0m\u001b[0m\n\u001b[1;32m      4\u001b[0m \u001b[0msize_2\u001b[0m \u001b[0;34m=\u001b[0m \u001b[0;36m5\u001b[0m\u001b[0;34m\u001b[0m\u001b[0;34m\u001b[0m\u001b[0m\n\u001b[0;32m----> 5\u001b[0;31m \u001b[0mrandom_array\u001b[0m \u001b[0;34m=\u001b[0m \u001b[0mnp\u001b[0m\u001b[0;34m.\u001b[0m\u001b[0mrandom\u001b[0m\u001b[0;34m.\u001b[0m\u001b[0mrandint\u001b[0m\u001b[0;34m(\u001b[0m\u001b[0mupper_bound\u001b[0m\u001b[0;34m,\u001b[0m \u001b[0msize\u001b[0m\u001b[0;34m=\u001b[0m\u001b[0;34m(\u001b[0m\u001b[0msize_1\u001b[0m\u001b[0;34m,\u001b[0m \u001b[0msize_2\u001b[0m\u001b[0;34m)\u001b[0m\u001b[0;34m)\u001b[0m\u001b[0;34m\u001b[0m\u001b[0;34m\u001b[0m\u001b[0m\n\u001b[0m\u001b[1;32m      6\u001b[0m \u001b[0mprint\u001b[0m\u001b[0;34m(\u001b[0m\u001b[0;34mf\"My random array: \\n{random_array}\\n\"\u001b[0m\u001b[0;34m)\u001b[0m\u001b[0;34m\u001b[0m\u001b[0;34m\u001b[0m\u001b[0m\n\u001b[1;32m      7\u001b[0m \u001b[0;34m\u001b[0m\u001b[0m\n",
            "\u001b[0;31mNameError\u001b[0m: name 'np' is not defined"
          ]
        }
      ]
    },
    {
      "cell_type": "markdown",
      "source": [
        "## Processing arrays in NumPy"
      ],
      "metadata": {
        "id": "HVIsZzos6hhe"
      }
    },
    {
      "cell_type": "markdown",
      "source": [
        "#### Using Array methods"
      ],
      "metadata": {
        "id": "IUU3IKfeeFxD"
      }
    },
    {
      "cell_type": "code",
      "source": [
        "import numpy as np\n",
        "\n",
        "my_array = np.array([0, 1, 2, 3, 4, 8])\n",
        "print(f\"My original array: {my_array}\\n\")\n",
        "\n",
        "# Add values to the end of the array\n",
        "numbers_to_append = [9, 10]\n",
        "my_array_appended = np.append(my_array, numbers_to_append)\n",
        "print(f\"My appended array: {my_array_appended}\\n\")\n",
        "\n",
        "# Insert values in a specific index\n",
        "index = 5\n",
        "numbers_to_insert = [5, 6, 7]\n",
        "my_array_inserted = np.insert(my_array, index, numbers_to_insert)\n",
        "print(f\"My inserted array in index {index}: {my_array_inserted}\\n\")\n",
        "\n",
        "# Delete values of a specific index\n",
        "index = 5\n",
        "my_array_deleted = np.delete(my_array, index)\n",
        "print(f\"My deleted array in index {index}: {my_array_deleted}\")"
      ],
      "metadata": {
        "colab": {
          "base_uri": "https://localhost:8080/"
        },
        "id": "RHTQDa4NeIi2",
        "outputId": "49c6a552-ea57-409d-8617-fa15c8871c03"
      },
      "execution_count": null,
      "outputs": [
        {
          "output_type": "stream",
          "name": "stdout",
          "text": [
            "My original array: [0 1 2 3 4 8]\n",
            "\n",
            "My appended array: [ 0  1  2  3  4  8  9 10]\n",
            "\n",
            "My inserted array in index 5: [0 1 2 3 4 5 6 7 8]\n",
            "\n",
            "My deleted array in index 5: [0 1 2 3 4]\n"
          ]
        }
      ]
    },
    {
      "cell_type": "code",
      "source": [
        "import numpy as np\n",
        "\n",
        "# Create a 2D array\n",
        "matrix_1 = np.array([[1, 2,3, 4],\n",
        "                     [5, 6, 7, 8],])\n",
        "matrix_2 = np.array([[9, 10, 11, 12],\n",
        "                     [13, 14, 15, 16]])\n",
        "print(f\"Matrix 1: \\n{matrix_1}\")\n",
        "print(f\"Matrix 2: \\n{matrix_2}\\n\")\n",
        "\n",
        "\n",
        "# Concatenate two arrays row-wise\n",
        "concatenated_row_wise = np.concatenate((matrix_1, matrix_2), axis=0) # or you can use `.vstack((matrix_1, matrix_2))`\n",
        "print(f\"Concatenated arrays row-wise: \\n{concatenated_row_wise}\\n\")\n",
        "\n",
        "# Concatenate two arrays column-wise\n",
        "concatenated_column_wise = np.concatenate((matrix_1, matrix_2), axis=1) # or you can use `.hstack((matrix_1, matrix_2))`\n",
        "print(f\"Concatenated arrays column-wise: \\n{concatenated_column_wise}\\n\")\n",
        "\n",
        "# Add a new dimension after concatenating using `.stack()`\n",
        "stacked_matrix = np.stack((matrix_1, matrix_2))\n",
        "print(f\"Stacked arrays: \\n{stacked_matrix}\\n\")\n",
        "\n",
        "# Split array\n",
        "num_arrays_to_split = 2 # Amount of arrays we want to split\n",
        "splitted_matrix_row_wise = np.split(concatenated_row_wise, num_arrays_to_split, axis=0) # means split the array into 2 arrays row-wise(axis=0)\n",
        "splitted_matrix_column_wise = np.split(concatenated_row_wise, num_arrays_to_split, axis=1) # means split the array into 2 arrays column-wise(axis=1)\n",
        "print(f\"Array before splitting: \\n{concatenated_row_wise}\")\n",
        "print(f\"Array after splitting row-wise: \\n{splitted_matrix_row_wise}\")\n",
        "# print(f\"Array after splitting column-wise: \\n{splitted_matrix_column_wise}\")"
      ],
      "metadata": {
        "colab": {
          "base_uri": "https://localhost:8080/"
        },
        "id": "-hMAQJrkhl_T",
        "outputId": "e1f690b7-5e85-4e13-80a9-bb42b233d6b5"
      },
      "execution_count": null,
      "outputs": [
        {
          "output_type": "stream",
          "name": "stdout",
          "text": [
            "Matrix 1: \n",
            "[[1 2 3 4]\n",
            " [5 6 7 8]]\n",
            "Matrix 2: \n",
            "[[ 9 10 11 12]\n",
            " [13 14 15 16]]\n",
            "\n",
            "Concatenated arrays row-wise: \n",
            "[[ 1  2  3  4]\n",
            " [ 5  6  7  8]\n",
            " [ 9 10 11 12]\n",
            " [13 14 15 16]]\n",
            "\n",
            "Concatenated arrays column-wise: \n",
            "[[ 1  2  3  4  9 10 11 12]\n",
            " [ 5  6  7  8 13 14 15 16]]\n",
            "\n",
            "Stacked arrays: \n",
            "[[[ 1  2  3  4]\n",
            "  [ 5  6  7  8]]\n",
            "\n",
            " [[ 9 10 11 12]\n",
            "  [13 14 15 16]]]\n",
            "\n",
            "Array before splitting: \n",
            "[[ 1  2  3  4]\n",
            " [ 5  6  7  8]\n",
            " [ 9 10 11 12]\n",
            " [13 14 15 16]]\n",
            "Array after splitting row-wise: \n",
            "[array([[1, 2, 3, 4],\n",
            "       [5, 6, 7, 8]]), array([[ 9, 10, 11, 12],\n",
            "       [13, 14, 15, 16]])]\n"
          ]
        }
      ]
    },
    {
      "cell_type": "markdown",
      "source": [
        "#### Checking the properties within the array\n",
        "#### But before that, let's try to use `np.random.seed()` which basically lets us have the same random values for you and me."
      ],
      "metadata": {
        "id": "4c1meFD8wCsK"
      }
    },
    {
      "cell_type": "code",
      "source": [
        "np.random.seed(42)\n",
        "\n",
        "random_array = np.random.rand(5,2)\n",
        "print(f\"Random array: \\n{random_array}\\n\")\n",
        "\n",
        "# Check the shape of my array\n",
        "random_array_shape = random_array.shape # We use `.shape` to access the values of the attribute\n",
        "print(f\"Random array shape: {random_array_shape}\")\n",
        "\n",
        "# Check how many dimensions a certain array has\n",
        "random_array_ndimensions = random_array.ndim\n",
        "print(f\"Random array number of dimensions: {random_array_ndimensions}\")\n",
        "\n",
        "# Check what datatype an array has\n",
        "random_array_dtype = random_array.dtype\n",
        "print(f\"Random array datatype: {random_array_dtype}\")\n",
        "\n",
        "# Check the total size an array has\n",
        "random_array_size = random_array.size\n",
        "print(f\"Random array size: {random_array_size}\")"
      ],
      "metadata": {
        "colab": {
          "base_uri": "https://localhost:8080/"
        },
        "id": "tQ0m3InqwBhx",
        "outputId": "056202ba-b54a-452a-bf85-d1a990f60a6f"
      },
      "execution_count": null,
      "outputs": [
        {
          "output_type": "stream",
          "name": "stdout",
          "text": [
            "Random array: \n",
            "[[0.37454012 0.95071431]\n",
            " [0.73199394 0.59865848]\n",
            " [0.15601864 0.15599452]\n",
            " [0.05808361 0.86617615]\n",
            " [0.60111501 0.70807258]]\n",
            "\n",
            "Random array shape: (5, 2)\n",
            "Random array number of dimensions: 2\n",
            "Random array datatype: float64\n",
            "Random array size: 10\n"
          ]
        }
      ]
    },
    {
      "cell_type": "markdown",
      "source": [
        "#### Accessing elements within a NumPy array"
      ],
      "metadata": {
        "id": "CHJ-uRe0xCxe"
      }
    },
    {
      "cell_type": "code",
      "source": [
        "np.random.seed(42)\n",
        "\n",
        "upper_bound = 20 # Create an upper bound\n",
        "\n",
        "random_array = np.random.randint(upper_bound, size=(5,5)) # Create a 5x5 array with upperbound of 20\n",
        "print(f\"Random array: \\n{random_array}\\n\")\n",
        "\n",
        "# Get the element of the array in the 1st row and 3rd column. Keep in mind that index always starts with 0\n",
        "row = 0 # 1st row\n",
        "column = 2 # 3rd column\n",
        "element = random_array[row, column]\n",
        "print(f\"Element in the row {row} and column {column}: {element}\\n\")\n",
        "\n",
        "\n",
        "# What if I want to get/access all the elements within a row(or column) in our array?\n",
        "row = 0 # 1st row\n",
        "column = 2 # 3rd column\n",
        "elements_in_row = random_array[row, :] # means get all the elements in that specific row\n",
        "print(f\"Elements in row {row}: {elements_in_row}\")\n",
        "elements_in_column = random_array[:, column] # means to get all the elements in that specific column\n",
        "print(f\"Elements in column {column}: {elements_in_column}\\n\")\n",
        "\n",
        "\n",
        "# What if I want to get all the elements from a specific row (or column) upto another?\n",
        "lower_row = 1 # 2nd row\n",
        "upper_row = 4 # 5th row\n",
        "lower_column = 1 # 2nd column\n",
        "upper_column = 4 # 5th column\n",
        "elements_within_rows = random_array[lower_row:upper_row, :] # Means get all the elements from a specific row i up to row j-1\n",
        "print(f\"Elements from row {lower_row} to row {upper_row}-1: \\n{elements_within_rows}\")\n",
        "elements_within_columns = random_array[:, lower_column:upper_column] # Means get all the elements from a specific row i up to row j-1\n",
        "print(f\"Elements from column {lower_column} to column {upper_column}-1: \\n{elements_within_columns}\")\n"
      ],
      "metadata": {
        "colab": {
          "base_uri": "https://localhost:8080/"
        },
        "id": "X60kxttExIho",
        "outputId": "6aed2961-174a-4114-f386-c9ec197d8aac"
      },
      "execution_count": null,
      "outputs": [
        {
          "output_type": "stream",
          "name": "stdout",
          "text": [
            "Random array: \n",
            "[[ 6 19 14 10  7]\n",
            " [ 6 18 10 10  3]\n",
            " [ 7  2  1 11  5]\n",
            " [ 1  0 11 11 16]\n",
            " [ 9 15 14 14 18]]\n",
            "\n",
            "Element in the row 0 and column 2: 14\n",
            "\n",
            "Elements in row 0: [ 6 19 14 10  7]\n",
            "Elements in column 2: [14 10  1 11 14]\n",
            "\n",
            "Elements from row 1 to row 4-1: \n",
            "[[ 6 18 10 10  3]\n",
            " [ 7  2  1 11  5]\n",
            " [ 1  0 11 11 16]]\n",
            "Elements from column 1 to column 4-1: \n",
            "[[19 14 10]\n",
            " [18 10 10]\n",
            " [ 2  1 11]\n",
            " [ 0 11 11]\n",
            " [15 14 14]]\n"
          ]
        }
      ]
    },
    {
      "cell_type": "markdown",
      "source": [
        "#### Manipulating numpy arrays"
      ],
      "metadata": {
        "id": "TYfqwDA-wI_L"
      }
    },
    {
      "cell_type": "code",
      "source": [
        "import numpy as np\n",
        "\n",
        "upper_bound = 20\n",
        "random_array = np.random.randint(upper_bound, size=(2, 9))\n",
        "\n",
        "# As you will see after printing this variable, you will receive a tuple (2, 9) that represents the size of each dimensions\n",
        "print(f\"Random array: \\n{random_array}\")\n",
        "print(f\"Random array shape: {random_array_shape}\\n\\n\")\n",
        "\n",
        "\n",
        "# What if I want to swap those two dimensions sizes, for example, from (9, 2) to (2, 9)? Use `.transpose()`\n",
        "random_array_transposed = random_array.transpose(1, 0) # the arguments within `.transpose(1, 0)` represents the index position of the value of each dimensions size in the shape tuple\n",
        "random_array_transposed_shape = random_array_transposed.shape\n",
        "print(f\"Random array before transposing: \\n{random_array}\")\n",
        "print(f\"Random array after transposing: \\n{random_array_transposed}\")\n",
        "print(f\"Random array transposed shape: {random_array_transposed_shape}\\n\")\n",
        "\n",
        "\n",
        "# Reshape an array, for example from (9,2) into (1, 18) or (3, 6) or (6, 3) or (2, 9) as long as the product of each dimension size is equal to the total size, which in this case is 18\n",
        "random_array_reshaped = random_array.reshape(18, 1)\n",
        "random_array_reshaped_shape = random_array_reshaped.shape\n",
        "print(f\"Random array before reshaping: \\n{random_array}\")\n",
        "print(f\"Random array after reshaping: \\n{random_array_reshaped}\")\n",
        "print(f\"Random reshaped shape: {random_array_reshaped_shape}\\n\")\n",
        "# But if you don't want to use `.reshape()` because you want to assign it immediately to the variable, you can use `.resize()`\n",
        "\n",
        "\n",
        "# What if I want to get the 1D version of my original array? You can use `.flatten()`\n",
        "random_array_flattened = random_array.flatten()\n",
        "print(f\"Random array before flattening: \\n{random_array}\")\n",
        "print(f\"Random array after flattening: {random_array_flattened}\")\n",
        "\n"
      ],
      "metadata": {
        "id": "N7lPqdtDHrll",
        "colab": {
          "base_uri": "https://localhost:8080/"
        },
        "outputId": "c1420e1b-a7ff-4b0f-96a5-54255e1fd7bd"
      },
      "execution_count": null,
      "outputs": [
        {
          "output_type": "stream",
          "name": "stdout",
          "text": [
            "Random array: \n",
            "[[ 0  0 18  1 11  5  3 10 16]\n",
            " [ 5  4 19  1  5 10 15 15  0]]\n",
            "Random array shape: (5, 2)\n",
            "\n",
            "\n",
            "Random array before transposing: \n",
            "[[ 0  0 18  1 11  5  3 10 16]\n",
            " [ 5  4 19  1  5 10 15 15  0]]\n",
            "Random array after transposing: \n",
            "[[ 0  5]\n",
            " [ 0  4]\n",
            " [18 19]\n",
            " [ 1  1]\n",
            " [11  5]\n",
            " [ 5 10]\n",
            " [ 3 15]\n",
            " [10 15]\n",
            " [16  0]]\n",
            "Random array transposed shape: (9, 2)\n",
            "\n",
            "Random array before reshaping: \n",
            "[[ 0  0 18  1 11  5  3 10 16]\n",
            " [ 5  4 19  1  5 10 15 15  0]]\n",
            "Random array after reshaping: \n",
            "[[ 0]\n",
            " [ 0]\n",
            " [18]\n",
            " [ 1]\n",
            " [11]\n",
            " [ 5]\n",
            " [ 3]\n",
            " [10]\n",
            " [16]\n",
            " [ 5]\n",
            " [ 4]\n",
            " [19]\n",
            " [ 1]\n",
            " [ 5]\n",
            " [10]\n",
            " [15]\n",
            " [15]\n",
            " [ 0]]\n",
            "Random reshaped shape: (18, 1)\n",
            "\n",
            "Random array before flattening: \n",
            "[[ 0  0 18  1 11  5  3 10 16]\n",
            " [ 5  4 19  1  5 10 15 15  0]]\n",
            "Random array after flattening: [ 0  0 18  1 11  5  3 10 16  5  4 19  1  5 10 15 15  0]\n"
          ]
        }
      ]
    },
    {
      "cell_type": "markdown",
      "source": [
        "#### Trying out Statistics and other operations"
      ],
      "metadata": {
        "id": "KouY3lastbfE"
      }
    },
    {
      "cell_type": "code",
      "source": [
        "np.random.seed(42)\n",
        "upper_bound = 20\n",
        "random_array = np.random.randint(upper_bound, size=(2, 5))\n",
        "print(f\"My array: \\n{random_array}\\n\")\n",
        "\n",
        "# Sort the array\n",
        "random_array_sorted = np.sort(random_array)\n",
        "print(f\"Sorted array: \\n{random_array_sorted}\\n\")\n",
        "\n",
        "# Finding the smallest value of the entire array\n",
        "smallest_value = np.min(random_array)\n",
        "print(f\"Smallest value: {smallest_value}\")\n",
        "# Finding the smallest value of each row, or in this case, axis=1\n",
        "smallest_value_row = np.min(random_array, axis=1)\n",
        "print(f\"Smallest value within each row: {smallest_value_row}\")\n",
        "# Finding the smallest value of each column, or in this case, axis=0\n",
        "smallest_value_column = np.min(random_array, axis=0)\n",
        "print(f\"Smallest value within each column: {smallest_value_column}\\n\")\n",
        "\n",
        "# Finding the largest value of the entire array\n",
        "largest_value = np.max(random_array)\n",
        "print(f\"Largest value: {largest_value}\")\n",
        "# Finding the largest value of each row, or in this case, axis=1\n",
        "largest_value_row = np.max(random_array, axis=1)\n",
        "print(f\"Largest value within each row: {largest_value_row}\")\n",
        "# Finding the largest value of each column, or in this case, axis=0\n",
        "largest_value_column = np.max(random_array, axis=0)\n",
        "print(f\"Largest value within each column: {largest_value_column}\\n\")\n",
        "\n",
        "# Get the sum of the entire array\n",
        "total_sum = random_array.sum()\n",
        "print(f\"The sum of the entire array is: {total_sum}\")\n",
        "# Get the sum of every element in each row (axis=1)\n",
        "row_sum = random_array.sum(axis=1)\n",
        "print(f\"The sum of each row is: {row_sum}\")\n",
        "# Get the sum of every element in each column (axis=0)\n",
        "column_sum = random_array.sum(axis=0)\n",
        "print(f\"The sum of each column is: {column_sum}\\n\")\n",
        "\n",
        "# Find the mean, median, mode, and standard deviation of the entire array\n",
        "mean = random_array.mean()\n",
        "median = np.median(random_array)\n",
        "std = np.std(random_array)\n",
        "print(f\"The mean of the array is: {mean}\")\n",
        "print(f\"The median of the array is: {median}\")\n",
        "print(f\"The standard deviation of the array is: {std}\")\n",
        "\n",
        "\"\"\"\n",
        "P.S. There is not built-in function for mode in NumPy, so if you want to get the mode of an array you may use the code provided below, but you may use other methods if you wish.\n",
        "\n",
        "\n",
        "unique_elements, counts = np.unique(random_array, return_counts=True)\n",
        "mode_index = np.argmax(counts)\n",
        "mode = unique_elements[mode_index]\n",
        "\n",
        "\"\"\""
      ],
      "metadata": {
        "colab": {
          "base_uri": "https://localhost:8080/"
        },
        "id": "oA1jBr1u9UjI",
        "outputId": "f5b8d315-73b6-4b80-eff7-3b31a41e8115"
      },
      "execution_count": null,
      "outputs": [
        {
          "output_type": "stream",
          "name": "stdout",
          "text": [
            "My array: \n",
            "[[ 6 19 14 10  7]\n",
            " [ 6 18 10 10  3]]\n",
            "\n",
            "Sorted array: \n",
            "[[ 6  7 10 14 19]\n",
            " [ 3  6 10 10 18]]\n",
            "\n",
            "Smallest value: 3\n",
            "Smallest value within each row: [6 3]\n",
            "Smallest value within each column: [ 6 18 10 10  3]\n",
            "\n",
            "Largest value: 19\n",
            "Largest value within each row: [19 18]\n",
            "Largest value within each column: [ 6 19 14 10  7]\n",
            "\n",
            "The sum of the entire array is: 103\n",
            "The sum of each row is: [56 47]\n",
            "The sum of each column is: [12 37 24 20 10]\n",
            "\n",
            "The mean of the array is: 10.3\n",
            "The median of the array is: 10.0\n",
            "The standard deviation of the array is: 5.000999900019995\n"
          ]
        }
      ]
    },
    {
      "cell_type": "markdown",
      "source": [
        "Some math operations using arrays..."
      ],
      "metadata": {
        "id": "5j_4lKtLM4_J"
      }
    },
    {
      "cell_type": "code",
      "source": [
        "# Create two arrays\n",
        "np.random.seed(42)\n",
        "upper_bound = 5\n",
        "array_1 = np.random.randint(5, size=(1, 6))\n",
        "array_2 = np.random.randint(5, size=(1, 6))\n",
        "print(f\"First array:  {array_1}\")\n",
        "print(f\"Second array: {array_2}\\n\")\n",
        "\n",
        "# Add two arrays\n",
        "array_sum = array_1 + array_2\n",
        "print(f\"The sum of the two arrays is: {array_sum}\")\n",
        "\n",
        "# Subtract two arrays\n",
        "array_difference = array_1 - array_2\n",
        "print(f\"The difference of the two arrays is: {array_difference}\")\n",
        "\n",
        "# Multiply two arrays\n",
        "array_product = array_1 + array_2\n",
        "print(f\"The product of the two arrays is: {array_product}\")\n",
        "\n",
        "# Divide two arrays\n",
        "array_quotient = array_1 / array_2\n",
        "print(f\"The quotient of the two arrays is: {array_quotient}\\n\")\n",
        "\n",
        "# Matrix multiply two arrays. Make sure that each shape of the two arrays is in the form of mxn * nxp = mxp, for example: (2,5) and (5,4) results in shape (2, 4)\n",
        "print(f\"Array 1 shape: {array_1.shape}\")\n",
        "print(f\"Array 2 shape: {array_2.shape}\")\n",
        "array_2_transposed = array_2.transpose(1, 0)  # Since the shape is mismatched we perform a transpose so that our array_2 is converted from (1, 6) to (6, 1)\n",
        "print(f\"Array 2 transposed shape: {array_2_transposed.shape}\")\n",
        "matmul_product = np.matmul(array_1, array_2_transposed)\n",
        "print(f\"The matrix multiplication of the two arrays {array_1.shape}*{array_2_transposed.shape} is: {matmul_product}\")\n"
      ],
      "metadata": {
        "colab": {
          "base_uri": "https://localhost:8080/"
        },
        "id": "DPmt19dK_U5x",
        "outputId": "9ac14dea-3cf2-420b-fffc-4dfbf38476bd"
      },
      "execution_count": null,
      "outputs": [
        {
          "output_type": "stream",
          "name": "stdout",
          "text": [
            "First array:  [[3 4 2 4 4 1]]\n",
            "Second array: [[2 2 2 4 3 2]]\n",
            "\n",
            "The sum of the two arrays is: [[5 6 4 8 7 3]]\n",
            "The difference of the two arrays is: [[ 1  2  0  0  1 -1]]\n",
            "The product of the two arrays is: [[5 6 4 8 7 3]]\n",
            "The quotient of the two arrays is: [[1.5        2.         1.         1.         1.33333333 0.5       ]]\n",
            "\n",
            "Array 1 shape: (1, 6)\n",
            "Array 2 shape: (1, 6)\n",
            "Array 2 transposed shape: (6, 1)\n",
            "The matrix multiplication of the two arrays (1, 6)*(6, 1) is: [[48]]\n"
          ]
        }
      ]
    }
  ]
}